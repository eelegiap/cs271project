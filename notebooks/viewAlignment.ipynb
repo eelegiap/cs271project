{
 "cells": [
  {
   "cell_type": "code",
   "execution_count": 1,
   "metadata": {},
   "outputs": [],
   "source": [
    "import random\n",
    "import pickle"
   ]
  },
  {
   "cell_type": "code",
   "execution_count": 3,
   "metadata": {},
   "outputs": [],
   "source": [
    "# load aligment list as python list\n",
    "with open('alignment2-26.pickle', 'rb') as handle:\n",
    "    alignmentList = pickle.load(handle)"
   ]
  },
  {
   "cell_type": "code",
   "execution_count": 5,
   "metadata": {},
   "outputs": [
    {
     "data": {
      "text/plain": [
       "{'spanishRawText': 'Llegué, así, a un alto portón herrumbrado.',\n",
       " 'englishRawText': 'Meditating thus I arrived at a high, rusty iron gate.',\n",
       " 'spanishTokenList': [{'tokenid': 0,\n",
       "   'POS': None,\n",
       "   'text': '[[NULL]]',\n",
       "   'lemma': None,\n",
       "   'features': None},\n",
       "  {'tokenid': 1,\n",
       "   'POS': 'VERB',\n",
       "   'text': 'Llegué',\n",
       "   'lemma': 'llegar',\n",
       "   'features': 'Mood=Ind|Number=Sing|Person=1|Tense=Past|VerbForm=Fin'},\n",
       "  {'tokenid': 2,\n",
       "   'POS': 'PUNCT',\n",
       "   'text': ',',\n",
       "   'lemma': ',',\n",
       "   'features': 'PunctType=Comm'},\n",
       "  {'tokenid': 3, 'POS': 'ADV', 'text': 'así', 'lemma': 'así', 'features': '_'},\n",
       "  {'tokenid': 4,\n",
       "   'POS': 'PUNCT',\n",
       "   'text': ',',\n",
       "   'lemma': ',',\n",
       "   'features': 'PunctType=Comm'},\n",
       "  {'tokenid': 5, 'POS': 'ADP', 'text': 'a', 'lemma': 'a', 'features': '_'},\n",
       "  {'tokenid': 6,\n",
       "   'POS': 'DET',\n",
       "   'text': 'un',\n",
       "   'lemma': 'uno',\n",
       "   'features': 'Definite=Ind|Gender=Masc|Number=Sing|PronType=Art'},\n",
       "  {'tokenid': 7,\n",
       "   'POS': 'ADJ',\n",
       "   'text': 'alto',\n",
       "   'lemma': 'alto',\n",
       "   'features': 'Gender=Masc|Number=Sing'},\n",
       "  {'tokenid': 8,\n",
       "   'POS': 'NOUN',\n",
       "   'text': 'portón',\n",
       "   'lemma': 'portón',\n",
       "   'features': 'Gender=Masc|Number=Sing'},\n",
       "  {'tokenid': 9,\n",
       "   'POS': 'ADJ',\n",
       "   'text': 'herrumbrado',\n",
       "   'lemma': 'herrumbrado',\n",
       "   'features': 'Gender=Masc|Number=Sing|VerbForm=Part'},\n",
       "  {'tokenid': 10,\n",
       "   'POS': 'PUNCT',\n",
       "   'text': '.',\n",
       "   'lemma': '.',\n",
       "   'features': 'PunctType=Peri'}],\n",
       " 'englishTokenList': [{'tokenid': 0,\n",
       "   'POS': None,\n",
       "   'text': '[[NULL]]',\n",
       "   'lemma': None,\n",
       "   'features': None},\n",
       "  {'tokenid': 1,\n",
       "   'POS': 'VERB',\n",
       "   'text': 'Meditating',\n",
       "   'lemma': 'meditate',\n",
       "   'features': 'VerbForm=Ger'},\n",
       "  {'tokenid': 2,\n",
       "   'POS': 'ADV',\n",
       "   'text': 'thus',\n",
       "   'lemma': 'thus',\n",
       "   'features': '_'},\n",
       "  {'tokenid': 3,\n",
       "   'POS': 'PRON',\n",
       "   'text': 'I',\n",
       "   'lemma': 'I',\n",
       "   'features': 'Case=Nom|Number=Sing|Person=1|PronType=Prs'},\n",
       "  {'tokenid': 4,\n",
       "   'POS': 'VERB',\n",
       "   'text': 'arrived',\n",
       "   'lemma': 'arrive',\n",
       "   'features': 'Mood=Ind|Tense=Past|VerbForm=Fin'},\n",
       "  {'tokenid': 5, 'POS': 'ADP', 'text': 'at', 'lemma': 'at', 'features': '_'},\n",
       "  {'tokenid': 6,\n",
       "   'POS': 'DET',\n",
       "   'text': 'a',\n",
       "   'lemma': 'a',\n",
       "   'features': 'Definite=Ind|PronType=Art'},\n",
       "  {'tokenid': 7,\n",
       "   'POS': 'ADJ',\n",
       "   'text': 'high',\n",
       "   'lemma': 'high',\n",
       "   'features': 'Degree=Pos'},\n",
       "  {'tokenid': 8, 'POS': 'PUNCT', 'text': ',', 'lemma': ',', 'features': '_'},\n",
       "  {'tokenid': 9,\n",
       "   'POS': 'ADJ',\n",
       "   'text': 'rusty',\n",
       "   'lemma': 'rusty',\n",
       "   'features': 'Degree=Pos'},\n",
       "  {'tokenid': 10,\n",
       "   'POS': 'NOUN',\n",
       "   'text': 'iron',\n",
       "   'lemma': 'iron',\n",
       "   'features': 'Number=Sing'},\n",
       "  {'tokenid': 11,\n",
       "   'POS': 'NOUN',\n",
       "   'text': 'gate',\n",
       "   'lemma': 'gate',\n",
       "   'features': 'Number=Sing'},\n",
       "  {'tokenid': 12, 'POS': 'PUNCT', 'text': '.', 'lemma': '.', 'features': '_'}],\n",
       " 'alignmentTuples': [(0, 0),\n",
       "  (0, 3),\n",
       "  (0, 8),\n",
       "  (0, 9),\n",
       "  (0, 10),\n",
       "  (1, 1),\n",
       "  (1, 4),\n",
       "  (2, 0),\n",
       "  (3, 2),\n",
       "  (4, 0),\n",
       "  (5, 5),\n",
       "  (6, 6),\n",
       "  (7, 7),\n",
       "  (8, 11),\n",
       "  (9, 0),\n",
       "  (10, 12)]}"
      ]
     },
     "execution_count": 5,
     "metadata": {},
     "output_type": "execute_result"
    }
   ],
   "source": [
    "# alignmentList is a list of Python dictionaries with many attributes\n",
    "random.choice(alignmentList)"
   ]
  },
  {
   "cell_type": "code",
   "execution_count": 12,
   "metadata": {},
   "outputs": [
    {
     "name": "stdout",
     "output_type": "stream",
     "text": [
      "[[NULL]] \t\t[[NULL]]\n",
      "[[NULL]] \t\tI\n",
      "[[NULL]] \t\thang\n",
      "He \t\thave\n",
      "sido \t\tbeen\n",
      "condenado \t\tcondemned\n",
      "a \t\tto\n",
      "la \t\t[[NULL]]\n",
      "horca \t\t[[NULL]]\n",
      ". \t\t.\n"
     ]
    }
   ],
   "source": [
    "# see alignment tuples (words) for random list\n",
    "randSent = random.choice(alignmentList)\n",
    "for es,en in randSent['alignmentTuples']:\n",
    "    if randSent['alignmentTuples'] == []:\n",
    "        print('No alignment found')\n",
    "        break\n",
    "    print(randSent['spanishTokenList'][es]['text'], \n",
    "          '\\t\\t'+randSent['englishTokenList'][en]['text'])"
   ]
  },
  {
   "cell_type": "code",
   "execution_count": null,
   "metadata": {},
   "outputs": [],
   "source": []
  }
 ],
 "metadata": {
  "kernelspec": {
   "display_name": "Python 3",
   "language": "python",
   "name": "python3"
  },
  "language_info": {
   "codemirror_mode": {
    "name": "ipython",
    "version": 3
   },
   "file_extension": ".py",
   "mimetype": "text/x-python",
   "name": "python",
   "nbconvert_exporter": "python",
   "pygments_lexer": "ipython3",
   "version": "3.7.3"
  }
 },
 "nbformat": 4,
 "nbformat_minor": 2
}
