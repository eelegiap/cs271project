{
 "cells": [
  {
   "cell_type": "code",
   "execution_count": 1,
   "metadata": {},
   "outputs": [],
   "source": [
    "import random\n",
    "import pickle"
   ]
  },
  {
   "cell_type": "code",
   "execution_count": 2,
   "metadata": {},
   "outputs": [
    {
     "data": {
      "text/plain": [
       "{'indices': (56, 66),\n",
       " 'sents': ('Aniquilado, trémulo, me encogí en la otra punta del sillón, lejos del temido cristal.',\n",
       "  'Shattered, trembling, I huddled in the distant corner of the seat, as far as possible from the fearful window.')}"
      ]
     },
     "execution_count": 2,
     "metadata": {},
     "output_type": "execute_result"
    }
   ],
   "source": [
    "# load sent alignments\n",
    "with open('borges_sent_alignment_3-21.pickle', 'rb') as fp:\n",
    "     sentAlignments = pickle.load(fp)\n",
    "random.choice(sentAlignments)"
   ]
  },
  {
   "cell_type": "code",
   "execution_count": 3,
   "metadata": {},
   "outputs": [],
   "source": [
    "# load word alignments\n",
    "with open('borges_word_alignment_3-21.pickle', 'rb') as fp:\n",
    "     wordAlignments = pickle.load(fp)"
   ]
  },
  {
   "cell_type": "code",
   "execution_count": 4,
   "metadata": {},
   "outputs": [
    {
     "data": {
      "text/plain": [
       "{'indices': [(0, 0),\n",
       "  (1, 1),\n",
       "  (2, 2),\n",
       "  (3, 3),\n",
       "  (3, 8),\n",
       "  (4, 4),\n",
       "  (5, 7),\n",
       "  (5, 8),\n",
       "  (7, 6),\n",
       "  (8, 5),\n",
       "  (9, 9),\n",
       "  (9, 10),\n",
       "  (10, 13),\n",
       "  (11, 14),\n",
       "  (11, 15),\n",
       "  (12, 16)],\n",
       " 'words': [('El', 'The'),\n",
       "  ('casi', 'almost'),\n",
       "  ('intolerable', 'unbearable'),\n",
       "  ('recuerdo', 'memory'),\n",
       "  ('recuerdo', 'horseface'),\n",
       "  ('del', 'of'),\n",
       "  ('rostro', 'long'),\n",
       "  ('rostro', 'horseface'),\n",
       "  ('de', \"'s\"),\n",
       "  ('Madden', 'Madden'),\n",
       "  ('abolió', 'put'),\n",
       "  ('abolió', 'an'),\n",
       "  ('esas', 'these'),\n",
       "  ('divagaciones', 'wandering'),\n",
       "  ('divagaciones', 'thoughts'),\n",
       "  ('.', '.')]}"
      ]
     },
     "execution_count": 4,
     "metadata": {},
     "output_type": "execute_result"
    }
   ],
   "source": [
    "random.choice(wordAlignments)"
   ]
  },
  {
   "cell_type": "code",
   "execution_count": null,
   "metadata": {},
   "outputs": [],
   "source": []
  }
 ],
 "metadata": {
  "kernelspec": {
   "display_name": "Python 3 (ipykernel)",
   "language": "python",
   "name": "python3"
  },
  "language_info": {
   "codemirror_mode": {
    "name": "ipython",
    "version": 3
   },
   "file_extension": ".py",
   "mimetype": "text/x-python",
   "name": "python",
   "nbconvert_exporter": "python",
   "pygments_lexer": "ipython3",
   "version": "3.9.7"
  }
 },
 "nbformat": 4,
 "nbformat_minor": 4
}
