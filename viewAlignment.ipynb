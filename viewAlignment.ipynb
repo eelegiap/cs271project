{
 "cells": [
  {
   "cell_type": "code",
   "execution_count": 2,
   "metadata": {},
   "outputs": [],
   "source": [
    "import random\n",
    "import pickle"
   ]
  },
  {
   "cell_type": "code",
   "execution_count": 8,
   "metadata": {},
   "outputs": [
    {
     "data": {
      "text/plain": [
       "{'indices': (2, 2),\n",
       " 'sents': ('\\nEn la página 22 de la Historia de la Guerra Europea, de Liddell Hart, se lee que una ofensiva de trece divisiones británicas (apoyadas por mil cuatrocientas piezas de artillería) contra la línea Serre Montauban había sido planeada para el veinticuatro de julio de 1916 y debió postergarse hasta la mañana del día veintinueve.',\n",
       "  '\\nIn his A History of the World War (page 212), Captain Liddell Hart reports that a planned offensive by thirteen British divisions, supported by fourteen hundred artillery pieces, against the German line at Serre-Montauban, scheduled for July 24, 1916, had to be postponed until the morning of the 29th.')}"
      ]
     },
     "execution_count": 8,
     "metadata": {},
     "output_type": "execute_result"
    }
   ],
   "source": [
    "# load sent alignments\n",
    "with open('borges_sent_alignment_3-12.pickle', 'rb') as fp:\n",
    "     sentAlignments = pickle.load(fp)\n",
    "random.choice(sentAlignments)"
   ]
  },
  {
   "cell_type": "code",
   "execution_count": 9,
   "metadata": {},
   "outputs": [],
   "source": [
    "# load word alignments\n",
    "with open('borges_word_alignment_3-12.pickle', 'rb') as fp:\n",
    "     wordAlignments = pickle.load(fp)"
   ]
  },
  {
   "cell_type": "code",
   "execution_count": 10,
   "metadata": {},
   "outputs": [
    {
     "data": {
      "text/plain": [
       "{'indices': [(0, 1),\n",
       "  (0, 2),\n",
       "  (1, 8),\n",
       "  (2, 3),\n",
       "  (2, 9),\n",
       "  (3, 4),\n",
       "  (4, 5),\n",
       "  (4, 7),\n",
       "  (5, 10)],\n",
       " 'words': [('Devolví', 'I'),\n",
       "  ('Devolví', 'handed'),\n",
       "  ('en', 'in'),\n",
       "  ('silencio', 'back'),\n",
       "  ('silencio', 'silence'),\n",
       "  ('la', 'the'),\n",
       "  ('hoja', 'sheet'),\n",
       "  ('hoja', 'paper'),\n",
       "  ('.', '.')]}"
      ]
     },
     "execution_count": 10,
     "metadata": {},
     "output_type": "execute_result"
    }
   ],
   "source": [
    "random.choice(wordAlignments)"
   ]
  },
  {
   "cell_type": "code",
   "execution_count": null,
   "metadata": {},
   "outputs": [],
   "source": []
  }
 ],
 "metadata": {
  "kernelspec": {
   "display_name": "Python 3 (ipykernel)",
   "language": "python",
   "name": "python3"
  },
  "language_info": {
   "codemirror_mode": {
    "name": "ipython",
    "version": 3
   },
   "file_extension": ".py",
   "mimetype": "text/x-python",
   "name": "python",
   "nbconvert_exporter": "python",
   "pygments_lexer": "ipython3",
   "version": "3.9.7"
  }
 },
 "nbformat": 4,
 "nbformat_minor": 4
}
