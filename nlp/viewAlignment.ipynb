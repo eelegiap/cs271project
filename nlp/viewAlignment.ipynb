{
 "cells": [
  {
   "cell_type": "code",
   "execution_count": 1,
   "metadata": {},
   "outputs": [],
   "source": [
    "import random\n",
    "import pickle"
   ]
  },
  {
   "cell_type": "code",
   "execution_count": 2,
   "metadata": {},
   "outputs": [
    {
     "data": {
      "text/plain": [
       "{'indices': (131, 160),\n",
       " 'sents': ('Al cabo de más de cien años, los pormenores son irrecuperables, pero no es difícil conjeturar lo que sucedió.',\n",
       "  \"After more than a hundred years most of the details are irrecoverable, lost beyond all recall, but it isn't hard to image what must have happened.\")}"
      ]
     },
     "execution_count": 2,
     "metadata": {},
     "output_type": "execute_result"
    }
   ],
   "source": [
    "# load sent alignments\n",
    "with open('borges_sent_alignment_3-21.pickle', 'rb') as fp:\n",
    "     sentAlignments = pickle.load(fp)\n",
    "random.choice(sentAlignments)"
   ]
  },
  {
   "cell_type": "code",
   "execution_count": 3,
   "metadata": {},
   "outputs": [],
   "source": [
    "# load word alignments\n",
    "with open('borges_word_alignment_3-21.pickle', 'rb') as fp:\n",
    "     wordAlignments = pickle.load(fp)"
   ]
  },
  {
   "cell_type": "code",
   "execution_count": 5,
   "metadata": {},
   "outputs": [
    {
     "data": {
      "text/plain": [
       "{'indices': [(0, 0),\n",
       "  (0, 1),\n",
       "  (2, 6),\n",
       "  (3, 9),\n",
       "  (4, 12),\n",
       "  (5, 14),\n",
       "  (6, 24),\n",
       "  (7, 26),\n",
       "  (8, 14),\n",
       "  (8, 27),\n",
       "  (9, 29),\n",
       "  (10, 30),\n",
       "  (11, 31),\n",
       "  (12, 32),\n",
       "  (13, 33)],\n",
       " 'words': [('Volvió', 'He'),\n",
       "  ('Volvió', 'returned'),\n",
       "  ('un', 'a'),\n",
       "  ('papel', 'paper'),\n",
       "  ('antes', 'once'),\n",
       "  ('carmesí', 'crimson'),\n",
       "  (';', ':'),\n",
       "  ('ahora', 'was'),\n",
       "  ('rosado', 'crimson'),\n",
       "  ('rosado', 'rose'),\n",
       "  ('y', ','),\n",
       "  ('tenue', 'tenuous'),\n",
       "  ('y', ','),\n",
       "  ('cuadriculado', 'quadrangular'),\n",
       "  ('.', '.')]}"
      ]
     },
     "execution_count": 5,
     "metadata": {},
     "output_type": "execute_result"
    }
   ],
   "source": [
    "random.choice(wordAlignments)"
   ]
  },
  {
   "cell_type": "code",
   "execution_count": null,
   "metadata": {},
   "outputs": [],
   "source": []
  }
 ],
 "metadata": {
  "kernelspec": {
   "display_name": "Python 3 (ipykernel)",
   "language": "python",
   "name": "python3"
  },
  "language_info": {
   "codemirror_mode": {
    "name": "ipython",
    "version": 3
   },
   "file_extension": ".py",
   "mimetype": "text/x-python",
   "name": "python",
   "nbconvert_exporter": "python",
   "pygments_lexer": "ipython3",
   "version": "3.9.7"
  }
 },
 "nbformat": 4,
 "nbformat_minor": 4
}
