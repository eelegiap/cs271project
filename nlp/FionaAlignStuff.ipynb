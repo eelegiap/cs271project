{
 "cells": [
  {
   "cell_type": "code",
   "execution_count": 1,
   "id": "49a46c8e-4a7e-4744-aa17-a28d8696d0bd",
   "metadata": {},
   "outputs": [],
   "source": [
    "import json"
   ]
  },
  {
   "cell_type": "code",
   "execution_count": 2,
   "id": "ef72c060",
   "metadata": {},
   "outputs": [],
   "source": [
    "src_lang = \"spanish\"\n",
    "tgt_lang = \"english\""
   ]
  },
  {
   "cell_type": "code",
   "execution_count": 3,
   "id": "f8e580aa-1a17-4d59-9048-de7d1eeee654",
   "metadata": {},
   "outputs": [],
   "source": [
    "f = open ('./jsondata/'+src_lang+'/wordAlignment.json', \"r\", encoding=\"utf8\")\n",
    " \n",
    "# Reading from file\n",
    "data = json.loads(f.read())\n",
    "f.close()"
   ]
  },
  {
   "cell_type": "code",
   "execution_count": 8,
   "id": "689bc644",
   "metadata": {
    "tags": []
   },
   "outputs": [],
   "source": [
    "span_alignments = {}\n",
    "for i, sent in enumerate(data):\n",
    "    for alignment in sent[\"alignedwordindices\"]:  \n",
    "        lemma_scr = sent['srctokens'][alignment[0]]['lemma'].lower()\n",
    "        lemma_tgt = sent['tgttokens'][alignment[1]]['lemma'].lower()\n",
    "        if(lemma_scr not in span_alignments):\n",
    "            span_alignments[lemma_scr] = [[lemma_tgt], [sent[\"srcsentidx\"]], [sent[\"tgtsentidx\"]], [sent['tgttokens'][alignment[1]]['tokenid']]]\n",
    "        else: \n",
    "            span_alignments[lemma_scr][0].append(lemma_tgt)\n",
    "            span_alignments[lemma_scr][1].append(sent[\"srcsentidx\"])\n",
    "            span_alignments[lemma_scr][2].append(sent[\"tgtsentidx\"])\n",
    "            span_alignments[lemma_scr][3].append(sent['tgttokens'][alignment[1]]['tokenid'])"
   ]
  },
  {
   "cell_type": "code",
   "execution_count": 15,
   "id": "b15bd3a6",
   "metadata": {},
   "outputs": [],
   "source": [
    "eng_alignments = {}\n",
    "for i, sent in enumerate(data):\n",
    "    for alignment in sent[\"alignedwordindices\"]:  \n",
    "        lemma_scr = sent['srctokens'][alignment[0]]['lemma'].lower()\n",
    "        lemma_tgt = sent['tgttokens'][alignment[1]]['lemma'].lower()\n",
    "        if(lemma_tgt not in eng_alignments):\n",
    "            eng_alignments[lemma_tgt] = [[lemma_scr], [sent[\"srcsentidx\"]], [sent[\"tgtsentidx\"]], [sent['srctokens'][alignment[0]]['tokenid']]]\n",
    "        else: \n",
    "            eng_alignments[lemma_tgt][0].append(lemma_scr)\n",
    "            eng_alignments[lemma_tgt][1].append(sent[\"srcsentidx\"])\n",
    "            eng_alignments[lemma_tgt][2].append(sent[\"tgtsentidx\"])\n",
    "            eng_alignments[lemma_tgt][3].append(sent['tgttokens'][alignment[1]]['tokenid'])"
   ]
  },
  {
   "cell_type": "code",
   "execution_count": 17,
   "id": "6d02b5cc-abda-4e0a-8186-194ab5a90092",
   "metadata": {},
   "outputs": [],
   "source": [
    "with open(\"./jsondata/\"+src_lang+\"/alignments.json\", \"w\") as outfile:\n",
    "    json.dump(span_alignments, outfile)\n",
    "outfile.close()"
   ]
  },
  {
   "cell_type": "code",
   "execution_count": 18,
   "id": "ea74dbe2-55bb-4f01-a339-7943d98a43ad",
   "metadata": {},
   "outputs": [],
   "source": [
    "with open(\"./jsondata/\"+tgt_lang+\"/\"+src_lang+\"/alignments.json\", \"w\", encoding='utf-8') as outfile:\n",
    "    json.dump(eng_alignments, outfile, ensure_ascii=False)\n",
    "outfile.close()"
   ]
  },
  {
   "cell_type": "code",
   "execution_count": 12,
   "id": "c991885e",
   "metadata": {},
   "outputs": [],
   "source": [
    "span_lemmas = {}\n",
    "for i, sent in enumerate(data):\n",
    "    for alignment in sent[\"alignedwordindices\"]:  \n",
    "        text_scr = sent['srctokens'][alignment[0]]['text'].lower()\n",
    "        lemma_scr = sent['srctokens'][alignment[0]]['lemma'].lower()\n",
    "        if(text_scr not in span_lemmas):\n",
    "            span_lemmas[text_scr] = lemma_scr"
   ]
  },
  {
   "cell_type": "code",
   "execution_count": 13,
   "id": "00cbaf1d",
   "metadata": {},
   "outputs": [],
   "source": [
    "with open(\"./jsondata/\"+src_lang+\"/lemmas.json\", \"w\") as outfile:\n",
    "    json.dump(span_lemmas, outfile)\n",
    "outfile.close()"
   ]
  },
  {
   "cell_type": "code",
   "execution_count": 14,
   "id": "8fc3ba72",
   "metadata": {},
   "outputs": [],
   "source": [
    "eng_lemmas = {}\n",
    "for i, sent in enumerate(data):\n",
    "    for alignment in sent[\"alignedwordindices\"]:  \n",
    "        text_scr = sent['tgttokens'][alignment[1]]['text'].lower()\n",
    "        lemma_scr = sent['tgttokens'][alignment[1]]['lemma'].lower()\n",
    "        if(text_scr not in span_lemmas):\n",
    "            eng_lemmas[text_scr] = lemma_scr"
   ]
  },
  {
   "cell_type": "code",
   "execution_count": 15,
   "id": "fc16e860",
   "metadata": {},
   "outputs": [],
   "source": [
    "with open(\"./jsondata/\"+tgt_lang+\"/\"+src_lang+\"/lemmas.json\", \"w\") as outfile:\n",
    "    json.dump(eng_lemmas, outfile)\n",
    "outfile.close()"
   ]
  },
  {
   "cell_type": "code",
   "execution_count": null,
   "id": "b2d336f8",
   "metadata": {},
   "outputs": [],
   "source": []
  }
 ],
 "metadata": {
  "kernelspec": {
   "display_name": "Python 3 (ipykernel)",
   "language": "python",
   "name": "python3"
  },
  "language_info": {
   "codemirror_mode": {
    "name": "ipython",
    "version": 3
   },
   "file_extension": ".py",
   "mimetype": "text/x-python",
   "name": "python",
   "nbconvert_exporter": "python",
   "pygments_lexer": "ipython3",
   "version": "3.9.7"
  }
 },
 "nbformat": 4,
 "nbformat_minor": 5
}
