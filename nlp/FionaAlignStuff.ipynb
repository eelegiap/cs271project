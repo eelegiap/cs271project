{
 "cells": [
  {
   "cell_type": "code",
   "execution_count": 3,
   "id": "49a46c8e-4a7e-4744-aa17-a28d8696d0bd",
   "metadata": {},
   "outputs": [],
   "source": [
    "import json"
   ]
  },
  {
   "cell_type": "code",
   "execution_count": 4,
   "id": "f8e580aa-1a17-4d59-9048-de7d1eeee654",
   "metadata": {},
   "outputs": [],
   "source": [
    "f = open ('./jsondata/wordAlignment3-28.json', \"r\")\n",
    " \n",
    "# Reading from file\n",
    "data = json.loads(f.read())"
   ]
  },
  {
   "cell_type": "code",
   "execution_count": 58,
   "id": "adb419a3-1101-4ecd-a99b-0ba70382f2c3",
   "metadata": {},
   "outputs": [],
   "source": [
    "span_alignments = {}\n",
    "for i, sent in enumerate(data):\n",
    "    for alignment in sent[\"alignedwords\"]:  \n",
    "        if(alignment[0] not in span_alignments):\n",
    "            span_alignments[alignment[0].lower()] = [[alignment[1].lower()], [sent[\"srcsentidx\"]], [sent[\"tgtsentidx\"]]]\n",
    "        else: \n",
    "            span_alignments[alignment[0].lower()][0].append(alignment[1].lower())\n",
    "            span_alignments[alignment[0].lower()][1].append(sent[\"srcsentidx\"])\n",
    "            span_alignments[alignment[0].lower()][2].append(sent[\"tgtsentidx\"])"
   ]
  },
  {
   "cell_type": "code",
   "execution_count": 59,
   "id": "b15bd3a6",
   "metadata": {},
   "outputs": [],
   "source": [
    "eng_alignments = {}\n",
    "for i, sent in enumerate(data):\n",
    "    for alignment in sent[\"alignedwords\"]:  \n",
    "        if(alignment[1] not in eng_alignments):\n",
    "            eng_alignments[alignment[1].lower()] = [[alignment[0].lower()], [sent[\"srcsentidx\"]], [sent[\"tgtsentidx\"]]]\n",
    "        else: \n",
    "            eng_alignments[alignment[1].lower()][0].append(alignment[0].lower())\n",
    "            eng_alignments[alignment[1].lower()][1].append(sent[\"srcsentidx\"])\n",
    "            eng_alignments[alignment[1].lower()][2].append(sent[\"tgtsentidx\"])"
   ]
  },
  {
   "cell_type": "code",
   "execution_count": 60,
   "id": "6d02b5cc-abda-4e0a-8186-194ab5a90092",
   "metadata": {},
   "outputs": [],
   "source": [
    "with open(\"./jsondata/span_alignments.json\", \"w\") as outfile:\n",
    "    json.dump(span_alignments, outfile)\n"
   ]
  },
  {
   "cell_type": "code",
   "execution_count": 63,
   "id": "ea74dbe2-55bb-4f01-a339-7943d98a43ad",
   "metadata": {},
   "outputs": [],
   "source": [
    "with open(\"./jsondata/eng_alignments.json\", \"w\") as outfile:\n",
    "    json.dump(eng_alignments, outfile)"
   ]
  },
  {
   "cell_type": "code",
   "execution_count": 61,
   "id": "1040ec95-6c14-40e2-aa21-1d60a73ffa02",
   "metadata": {},
   "outputs": [
    {
     "data": {
      "text/plain": [
       "[['my', 'my', 'my', 'my', 'my', 'my', 'me', 'me', 'my', 'my'],\n",
       " [116, 144, 144, 153, 163, 167, 169, 169, 216, 217],\n",
       " [141, 176, 176, 185, 201, 208, 211, 211, 273, 274]]"
      ]
     },
     "execution_count": 61,
     "metadata": {},
     "output_type": "execute_result"
    }
   ],
   "source": [
    "span_alignments['mi']"
   ]
  },
  {
   "cell_type": "code",
   "execution_count": 62,
   "id": "ed503245-2d28-49d4-afc5-b6c45b5c7ad8",
   "metadata": {},
   "outputs": [
    {
     "data": {
      "text/plain": [
       "[['mi', 'mi', 'mi', 'me', 'mi', 'mi', 'mi', 'los', 'mi', 'mi'],\n",
       " [116, 144, 144, 153, 153, 163, 167, 201, 216, 217],\n",
       " [141, 176, 176, 185, 185, 201, 208, 254, 273, 274]]"
      ]
     },
     "execution_count": 62,
     "metadata": {},
     "output_type": "execute_result"
    }
   ],
   "source": [
    "eng_alignments['my']"
   ]
  },
  {
   "cell_type": "code",
   "execution_count": null,
   "id": "2870f9cc",
   "metadata": {},
   "outputs": [],
   "source": []
  }
 ],
 "metadata": {
  "kernelspec": {
   "display_name": "Python 3 (ipykernel)",
   "language": "python",
   "name": "python3"
  },
  "language_info": {
   "codemirror_mode": {
    "name": "ipython",
    "version": 3
   },
   "file_extension": ".py",
   "mimetype": "text/x-python",
   "name": "python",
   "nbconvert_exporter": "python",
   "pygments_lexer": "ipython3",
   "version": "3.9.7"
  }
 },
 "nbformat": 4,
 "nbformat_minor": 5
}
